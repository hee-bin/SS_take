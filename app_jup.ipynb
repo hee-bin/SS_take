{
 "cells": [
  {
   "cell_type": "code",
   "execution_count": null,
   "id": "039b4b37",
   "metadata": {},
   "outputs": [
    {
     "name": "stdout",
     "output_type": "stream",
     "text": [
      " * Serving Flask app '__main__'\n",
      " * Debug mode: off\n"
     ]
    },
    {
     "name": "stderr",
     "output_type": "stream",
     "text": [
      "WARNING: This is a development server. Do not use it in a production deployment. Use a production WSGI server instead.\n",
      " * Running on http://127.0.0.1:8080\n",
      "Press CTRL+C to quit\n",
      "127.0.0.1 - - [01/Jun/2023 14:50:31] \"GET / HTTP/1.1\" 200 -\n",
      "127.0.0.1 - - [01/Jun/2023 14:50:31] \"GET /static/css/style_base.css HTTP/1.1\" 304 -\n",
      "127.0.0.1 - - [01/Jun/2023 14:50:31] \"GET /static/css/style_home.css HTTP/1.1\" 304 -\n",
      "127.0.0.1 - - [01/Jun/2023 14:50:31] \"GET /static/js/map.js HTTP/1.1\" 304 -\n",
      "127.0.0.1 - - [01/Jun/2023 14:50:31] \"GET /static/image/recycle.png HTTP/1.1\" 304 -\n",
      "127.0.0.1 - - [01/Jun/2023 14:50:31] \"GET /static/image/trash.png HTTP/1.1\" 304 -\n",
      "127.0.0.1 - - [01/Jun/2023 14:50:33] \"GET /map_trash HTTP/1.1\" 200 -\n",
      "127.0.0.1 - - [01/Jun/2023 14:50:34] \"GET /static/css/style_base.css HTTP/1.1\" 304 -\n",
      "127.0.0.1 - - [01/Jun/2023 14:50:34] \"GET /static/css/style_home.css HTTP/1.1\" 304 -\n",
      "127.0.0.1 - - [01/Jun/2023 14:50:34] \"GET /static/js/map.js HTTP/1.1\" 304 -\n",
      "127.0.0.1 - - [01/Jun/2023 14:50:34] \"GET /static/css/style_map.css HTTP/1.1\" 304 -\n",
      "127.0.0.1 - - [01/Jun/2023 14:50:34] \"GET /static/js/trash.js HTTP/1.1\" 304 -\n",
      "127.0.0.1 - - [01/Jun/2023 14:50:34] \"GET /static/image/trash.png HTTP/1.1\" 304 -\n",
      "127.0.0.1 - - [01/Jun/2023 14:50:34] \"GET /static/image/greenO.png HTTP/1.1\" 304 -\n",
      "127.0.0.1 - - [01/Jun/2023 14:53:05] \"GET /map_trash HTTP/1.1\" 200 -\n",
      "127.0.0.1 - - [01/Jun/2023 14:53:06] \"GET /static/css/style_base.css HTTP/1.1\" 304 -\n",
      "127.0.0.1 - - [01/Jun/2023 14:53:06] \"GET /static/css/style_home.css HTTP/1.1\" 304 -\n",
      "127.0.0.1 - - [01/Jun/2023 14:53:06] \"GET /static/css/style_map.css HTTP/1.1\" 304 -\n",
      "127.0.0.1 - - [01/Jun/2023 14:53:06] \"GET /static/js/map.js HTTP/1.1\" 304 -\n",
      "127.0.0.1 - - [01/Jun/2023 14:53:06] \"GET /static/js/trash.js HTTP/1.1\" 304 -\n",
      "127.0.0.1 - - [01/Jun/2023 14:53:06] \"GET /static/image/trash.png HTTP/1.1\" 304 -\n",
      "127.0.0.1 - - [01/Jun/2023 14:53:06] \"GET /static/image/greenO.png HTTP/1.1\" 304 -\n",
      "127.0.0.1 - - [01/Jun/2023 14:54:03] \"GET /map_trash HTTP/1.1\" 200 -\n",
      "127.0.0.1 - - [01/Jun/2023 14:54:03] \"GET /static/css/style_base.css HTTP/1.1\" 304 -\n",
      "127.0.0.1 - - [01/Jun/2023 14:54:03] \"GET /static/css/style_home.css HTTP/1.1\" 304 -\n",
      "127.0.0.1 - - [01/Jun/2023 14:54:03] \"GET /static/css/style_map.css HTTP/1.1\" 304 -\n",
      "127.0.0.1 - - [01/Jun/2023 14:54:03] \"GET /static/js/map.js HTTP/1.1\" 304 -\n",
      "127.0.0.1 - - [01/Jun/2023 14:54:03] \"GET /static/js/trash.js HTTP/1.1\" 304 -\n",
      "127.0.0.1 - - [01/Jun/2023 14:54:03] \"GET /static/image/trash.png HTTP/1.1\" 304 -\n",
      "127.0.0.1 - - [01/Jun/2023 14:54:03] \"GET /static/image/greenO.png HTTP/1.1\" 304 -\n",
      "127.0.0.1 - - [01/Jun/2023 14:59:46] \"GET / HTTP/1.1\" 200 -\n",
      "127.0.0.1 - - [01/Jun/2023 14:59:46] \"GET /static/css/style_base.css HTTP/1.1\" 304 -\n",
      "127.0.0.1 - - [01/Jun/2023 14:59:46] \"GET /static/css/style_home.css HTTP/1.1\" 304 -\n",
      "127.0.0.1 - - [01/Jun/2023 14:59:46] \"GET /static/js/map.js HTTP/1.1\" 304 -\n",
      "127.0.0.1 - - [01/Jun/2023 14:59:46] \"GET /static/image/recycle.png HTTP/1.1\" 304 -\n",
      "127.0.0.1 - - [01/Jun/2023 14:59:46] \"GET /static/image/trash.png HTTP/1.1\" 304 -\n",
      "127.0.0.1 - - [01/Jun/2023 14:59:47] \"GET /map_trash HTTP/1.1\" 200 -\n",
      "127.0.0.1 - - [01/Jun/2023 14:59:47] \"GET /static/css/style_base.css HTTP/1.1\" 304 -\n",
      "127.0.0.1 - - [01/Jun/2023 14:59:47] \"GET /static/css/style_home.css HTTP/1.1\" 304 -\n",
      "127.0.0.1 - - [01/Jun/2023 14:59:47] \"GET /static/js/map.js HTTP/1.1\" 304 -\n",
      "127.0.0.1 - - [01/Jun/2023 14:59:47] \"GET /static/css/style_map.css HTTP/1.1\" 304 -\n",
      "127.0.0.1 - - [01/Jun/2023 14:59:47] \"GET /static/js/trash.js HTTP/1.1\" 304 -\n",
      "127.0.0.1 - - [01/Jun/2023 14:59:47] \"GET /static/image/trash.png HTTP/1.1\" 304 -\n",
      "127.0.0.1 - - [01/Jun/2023 14:59:47] \"GET /static/image/greenO.png HTTP/1.1\" 304 -\n",
      "127.0.0.1 - - [01/Jun/2023 14:59:51] \"GET /map_bin HTTP/1.1\" 200 -\n",
      "127.0.0.1 - - [01/Jun/2023 14:59:51] \"GET /static/css/style_base.css HTTP/1.1\" 304 -\n",
      "127.0.0.1 - - [01/Jun/2023 14:59:51] \"GET /static/css/style_home.css HTTP/1.1\" 304 -\n",
      "127.0.0.1 - - [01/Jun/2023 14:59:51] \"GET /static/css/style_map_bin.css HTTP/1.1\" 200 -\n",
      "127.0.0.1 - - [01/Jun/2023 14:59:51] \"GET /static/js/map_bin.js HTTP/1.1\" 200 -\n",
      "127.0.0.1 - - [01/Jun/2023 14:59:51] \"GET /static/js/map.js HTTP/1.1\" 304 -\n",
      "127.0.0.1 - - [01/Jun/2023 14:59:51] \"GET /static/image/trash.png HTTP/1.1\" 304 -\n",
      "127.0.0.1 - - [01/Jun/2023 14:59:51] \"GET /static/js/bin.js HTTP/1.1\" 200 -\n",
      "127.0.0.1 - - [01/Jun/2023 14:59:51] \"GET /static/image/greenO.png HTTP/1.1\" 304 -\n",
      "127.0.0.1 - - [01/Jun/2023 14:59:52] \"GET / HTTP/1.1\" 200 -\n",
      "127.0.0.1 - - [01/Jun/2023 14:59:52] \"GET /static/css/style_base.css HTTP/1.1\" 304 -\n",
      "127.0.0.1 - - [01/Jun/2023 14:59:52] \"GET /static/css/style_home.css HTTP/1.1\" 304 -\n",
      "127.0.0.1 - - [01/Jun/2023 14:59:52] \"GET /static/image/trash.png HTTP/1.1\" 304 -\n",
      "127.0.0.1 - - [01/Jun/2023 14:59:52] \"GET /static/js/map.js HTTP/1.1\" 304 -\n",
      "127.0.0.1 - - [01/Jun/2023 14:59:52] \"GET /static/image/recycle.png HTTP/1.1\" 304 -\n"
     ]
    }
   ],
   "source": [
    "import os\n",
    "import random\n",
    "from flask import Flask, render_template\n",
    "from flask_sqlalchemy import SQLAlchemy\n",
    "\n",
    "app = Flask(__name__)\n",
    "app.config['SECRET_KEY'] = 'secret_key'\n",
    "\n",
    "# SQLite 데이터베이스 설정\n",
    "db_path = os.path.join(os.getcwd(), 'Database', 'count.db')\n",
    "app.config['SQLALCHEMY_DATABASE_URI'] = f\"sqlite:///{db_path}\"\n",
    "\n",
    "db = SQLAlchemy(app)\n",
    "\n",
    "class Count(db.Model):\n",
    "    address = db.Column(db.String, primary_key=True)\n",
    "    lat = db.Column(db.Float)\n",
    "    lng = db.Column(db.Float)\n",
    "    can_count = db.Column(db.Integer)\n",
    "    pet_count = db.Column(db.Integer)\n",
    "\n",
    "@app.route('/')\n",
    "def home():\n",
    "    return render_template('home.html')\n",
    "\n",
    "@app.route('/map_bin')\n",
    "def map_bin():\n",
    "    return render_template('map_bin.html')\n",
    "\n",
    "@app.route('/map_trash')\n",
    "def map_trash():\n",
    "    count = Count.query.first()\n",
    "    \n",
    "    if count:\n",
    "        address = count.address\n",
    "        lat = count.lat\n",
    "        lng = count.lng\n",
    "        can = count.can_count\n",
    "        pet = count.pet_count\n",
    "    else:\n",
    "        address = \"\"\n",
    "        lat = 0.0\n",
    "        lng = 0.0\n",
    "        can = 0\n",
    "        pet = 0\n",
    "\n",
    "    return render_template('map_trash.html', address=address, lat=lat, lng=lng, can=can, pet=pet)\n",
    "\n",
    "\n",
    "\n",
    "\n",
    "if __name__ == '__main__':\n",
    "    app.run(port=8080)"
   ]
  },
  {
   "cell_type": "code",
   "execution_count": null,
   "id": "f7deea53",
   "metadata": {},
   "outputs": [],
   "source": []
  }
 ],
 "metadata": {
  "kernelspec": {
   "display_name": "Python 3",
   "language": "python",
   "name": "python3"
  },
  "language_info": {
   "codemirror_mode": {
    "name": "ipython",
    "version": 3
   },
   "file_extension": ".py",
   "mimetype": "text/x-python",
   "name": "python",
   "nbconvert_exporter": "python",
   "pygments_lexer": "ipython3",
   "version": "3.8.8"
  },
  "varInspector": {
   "cols": {
    "lenName": 16,
    "lenType": 16,
    "lenVar": 40
   },
   "kernels_config": {
    "python": {
     "delete_cmd_postfix": "",
     "delete_cmd_prefix": "del ",
     "library": "var_list.py",
     "varRefreshCmd": "print(var_dic_list())"
    },
    "r": {
     "delete_cmd_postfix": ") ",
     "delete_cmd_prefix": "rm(",
     "library": "var_list.r",
     "varRefreshCmd": "cat(var_dic_list()) "
    }
   },
   "types_to_exclude": [
    "module",
    "function",
    "builtin_function_or_method",
    "instance",
    "_Feature"
   ],
   "window_display": false
  }
 },
 "nbformat": 4,
 "nbformat_minor": 5
}
